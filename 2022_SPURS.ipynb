{
 "cells": [
  {
   "cell_type": "markdown",
   "id": "4a9c635b",
   "metadata": {},
   "source": [
    "# Gather TEAM and Player Roster"
   ]
  },
  {
   "cell_type": "code",
   "execution_count": 1,
   "id": "9665f802",
   "metadata": {},
   "outputs": [],
   "source": [
    "# Install Dependencies\n",
    "from nba_api.stats.endpoints import playercareerstats # Provides single player career stats\"\n",
    "from nba_api.live.nba.endpoints import scoreboard # Provides scoreboards for that day\"\n",
    "from nba_api.stats.static import players # Receive player information i.e. player_id\n",
    "from nba_api.stats.static import teams # Retrieve team data\n",
    "from nba_api.stats.endpoints import leaguegamefinder # Retrieve specific games\n",
    "from nba_api.stats.endpoints import leagueleaders # Retrieve stat leaders for a season\n",
    "from nba_api.stats.endpoints import commonteamroster\n",
    "from nba_api.stats.endpoints import shotchartdetail\n",
    "import pandas as pd\n",
    "import numpy as np\n",
    "import matplotlib.pyplot as plt"
   ]
  },
  {
   "cell_type": "code",
   "execution_count": 3,
   "id": "c40b15a9",
   "metadata": {},
   "outputs": [
    {
     "ename": "AttributeError",
     "evalue": "'list' object has no attribute 'get_teams'",
     "output_type": "error",
     "traceback": [
      "\u001b[0;31m---------------------------------------------------------------------------\u001b[0m",
      "\u001b[0;31mAttributeError\u001b[0m                            Traceback (most recent call last)",
      "Cell \u001b[0;32mIn[3], line 2\u001b[0m\n\u001b[1;32m      1\u001b[0m \u001b[38;5;66;03m# Retrieve dataframe of team plus players\u001b[39;00m\n\u001b[0;32m----> 2\u001b[0m teams \u001b[38;5;241m=\u001b[39m \u001b[43mteams\u001b[49m\u001b[38;5;241;43m.\u001b[39;49m\u001b[43mget_teams\u001b[49m()\n\u001b[1;32m      4\u001b[0m \u001b[38;5;66;03m# Turn dictionary into a pandas dataframe\u001b[39;00m\n\u001b[1;32m      5\u001b[0m teams \u001b[38;5;241m=\u001b[39m pd\u001b[38;5;241m.\u001b[39mDataFrame\u001b[38;5;241m.\u001b[39mfrom_dict(teams)\n",
      "\u001b[0;31mAttributeError\u001b[0m: 'list' object has no attribute 'get_teams'"
     ]
    }
   ],
   "source": [
    "# Retrieve dataframe of team plus players\n",
    "teams = teams.get_teams()\n",
    "\n",
    "# Turn dictionary into a pandas dataframe\n",
    "teams = pd.DataFrame.from_dict(teams)\n",
    "\n",
    "# Show the dataframe\n",
    "teams"
   ]
  },
  {
   "cell_type": "code",
   "execution_count": null,
   "id": "f7e64085",
   "metadata": {},
   "outputs": [],
   "source": [
    "# Get player information\n",
    "player_dict = players.get_players()\n",
    "\n",
    "# Change the dict to dataframe\n",
    "nba_players = pd.DataFrame.from_dict(player_dict)\n",
    "\n",
    "# Get only active nba players\n",
    "active_players = nba_players.loc[nba_players['is_active'] == True]\n",
    "\n",
    "# Show the active players\n",
    "active_players.head()"
   ]
  },
  {
   "cell_type": "code",
   "execution_count": null,
   "id": "93a1cc42",
   "metadata": {},
   "outputs": [],
   "source": [
    "# Look for a specific player\n",
    "James_Harden = active_players.loc[active_players['full_name']=='James Harden']\n",
    "James_Harden"
   ]
  },
  {
   "cell_type": "code",
   "execution_count": null,
   "id": "f0938774",
   "metadata": {},
   "outputs": [],
   "source": [
    "# Locate the Spurs team to get the team id\n",
    "Rockets_id = teams.loc[teams['nickname'] == 'Rockets']\n",
    "\n",
    "# Show the id\n",
    "Rockets_id"
   ]
  },
  {
   "cell_type": "code",
   "execution_count": null,
   "id": "e4e09269",
   "metadata": {},
   "outputs": [],
   "source": [
    "# Retrieve roster for 2022-2023\n",
    "teamfinder = commonteamroster.CommonTeamRoster(season='2022-23',\n",
    "                                              team_id = '1610612759',\n",
    "                                              league_id_nullable = '00')\n",
    "\n",
    "nba_teams = teamfinder.get_data_frames()[0]\n",
    "\n",
    "team_id = nba_teams['TeamID'].unique().tolist()\n",
    "team_ids = nba_teams['TeamID'].unique().tolist()\n",
    "\n",
    "spurs_roster = []\n",
    "\n",
    "for team_id in team_ids:\n",
    "    player_stats_data = commonteamroster.CommonTeamRoster(season = '2022-23', team_id = team_id, timeout=100)\n",
    "    df = player_stats_data.common_team_roster.get_data_frame()\n",
    "    df['TeamID'] = team_id\n",
    "    spurs_roster.append(df)\n",
    "    print(spurs_roster)\n",
    "#Spurs_roster = nba_commonteamroster(season = '2022-23', team_id = '1610612759')"
   ]
  },
  {
   "cell_type": "markdown",
   "id": "b9ecc585",
   "metadata": {},
   "source": [
    "# Gather shot chart information for specific player"
   ]
  },
  {
   "cell_type": "code",
   "execution_count": null,
   "id": "74e907ac",
   "metadata": {},
   "outputs": [],
   "source": [
    "# Get the shot detail of a player \"Devin Vassell\"\n",
    "shot_detail = shotchartdetail.ShotChartDetail(player_id= 1630170, \n",
    "              team_id=1610612759 , context_measure_simple = 'FGA',\n",
    "              season_type_all_star='Regular Season', season_nullable='2022-23')#.get_data_frames()[0]\n",
    "\n",
    "# Turn the data into a dataframe\n",
    "#shot_df = shot_detail\n",
    "\n",
    "# Show the dataframe\n",
    "shot_df"
   ]
  },
  {
   "cell_type": "code",
   "execution_count": null,
   "id": "3b979247",
   "metadata": {},
   "outputs": [],
   "source": [
    "# Check the dtypes\n",
    "shot_df.dtypes"
   ]
  },
  {
   "cell_type": "code",
   "execution_count": null,
   "id": "6b5eed6f",
   "metadata": {},
   "outputs": [],
   "source": [
    "# View the unique values for SHOT_ZONE_BASIC\n",
    "shot_df.SHOT_ZONE_BASIC.unique()"
   ]
  },
  {
   "cell_type": "code",
   "execution_count": null,
   "id": "e24ea1ba",
   "metadata": {},
   "outputs": [],
   "source": [
    "# View unique values\n",
    "shot_df.SHOT_ZONE_AREA.unique()"
   ]
  },
  {
   "cell_type": "code",
   "execution_count": null,
   "id": "2b710177",
   "metadata": {},
   "outputs": [],
   "source": [
    "#View unique values\n",
    "shot_df.ACTION_TYPE.unique()"
   ]
  },
  {
   "cell_type": "code",
   "execution_count": null,
   "id": "017b71f8",
   "metadata": {},
   "outputs": [],
   "source": [
    "# View unique values\n",
    "shot_df.SHOT_ZONE_RANGE.unique()"
   ]
  },
  {
   "cell_type": "code",
   "execution_count": null,
   "id": "65b15830",
   "metadata": {},
   "outputs": [],
   "source": [
    "# View unique values\n",
    "shot_df.SHOT_TYPE.unique()"
   ]
  },
  {
   "cell_type": "code",
   "execution_count": null,
   "id": "ff250d28",
   "metadata": {},
   "outputs": [],
   "source": [
    "# Create a shots made dataframe\n",
    "shots_df = shot_df [['PLAYER_NAME', 'TEAM_NAME', 'SHOT_ZONE_BASIC', 'EVENT_TYPE','LOC_X', \n",
    "                       'LOC_Y', 'SHOT_TYPE', 'ACTION_TYPE', 'SHOT_ZONE_AREA', 'SHOT_ZONE_RANGE']]\n",
    "\n",
    "# Show the made shot\n",
    "shots_df"
   ]
  },
  {
   "cell_type": "markdown",
   "id": "52ac64a8",
   "metadata": {},
   "source": [
    "# Create Shot Chart"
   ]
  },
  {
   "cell_type": "code",
   "execution_count": null,
   "id": "48d7a43d",
   "metadata": {},
   "outputs": [],
   "source": [
    "# Create the basketball chart using formula from\n",
    "from matplotlib.patches import Circle, Rectangle, Arc\n",
    "\n",
    "def draw_court(ax=None, color='black', lw=2, outer_lines=False):\n",
    "    # If an axes object isn't provided to plot onto, just get current one\n",
    "    if ax is None:\n",
    "        ax = plt.gca()\n",
    "\n",
    "    # Create the various parts of an NBA basketball court\n",
    "\n",
    "    # Create the basketball hoop\n",
    "    # Diameter of a hoop is 18\" so it has a radius of 9\", which is a value\n",
    "    # 7.5 in our coordinate system\n",
    "    hoop = Circle((0, 0), radius=7.5, linewidth=lw, color=color, fill=False)\n",
    "\n",
    "    # Create backboard\n",
    "    backboard = Rectangle((-30, -7.5), 60, -1, linewidth=lw, color=color)\n",
    "\n",
    "    # The paint\n",
    "    # Create the outer box 0f the paint, width=16ft, height=19ft\n",
    "    outer_box = Rectangle((-80, -47.5), 160, 190, linewidth=lw, color=color,\n",
    "                          fill=False)\n",
    "    # Create the inner box of the paint, widt=12ft, height=19ft\n",
    "    inner_box = Rectangle((-60, -47.5), 120, 190, linewidth=lw, color=color,\n",
    "                          fill=False)\n",
    "\n",
    "    # Create free throw top arc\n",
    "    top_free_throw = Arc((0, 142.5), 120, 120, theta1=0, theta2=180,\n",
    "                         linewidth=lw, color=color, fill=False)\n",
    "    # Create free throw bottom arc\n",
    "    bottom_free_throw = Arc((0, 142.5), 120, 120, theta1=180, theta2=0,\n",
    "                            linewidth=lw, color=color, linestyle='dashed')\n",
    "    # Restricted Zone, it is an arc with 4ft radius from center of the hoop\n",
    "    restricted = Arc((0, 0), 80, 80, theta1=0, theta2=180, linewidth=lw,\n",
    "                     color=color)\n",
    "\n",
    "    # Three point line\n",
    "    # Create the side 3pt lines, they are 14ft long before they begin to arc\n",
    "    corner_three_a = Rectangle((-220, -47.5), 0, 140, linewidth=lw,\n",
    "                               color=color)\n",
    "    corner_three_b = Rectangle((220, -47.5), 0, 140, linewidth=lw, color=color)\n",
    "    # 3pt arc - center of arc will be the hoop, arc is 23'9\" away from hoop\n",
    "    # I just played around with the theta values until they lined up with the \n",
    "    # threes\n",
    "    three_arc = Arc((0, 0), 475, 475, theta1=22, theta2=158, linewidth=lw,\n",
    "                    color=color)\n",
    "\n",
    "    # Center Court\n",
    "    center_outer_arc = Arc((0, 422.5), 120, 120, theta1=180, theta2=0,\n",
    "                           linewidth=lw, color=color)\n",
    "    center_inner_arc = Arc((0, 422.5), 40, 40, theta1=180, theta2=0,\n",
    "                           linewidth=lw, color=color)\n",
    "\n",
    "    # List of the court elements to be plotted onto the axes\n",
    "    court_elements = [hoop, backboard, outer_box, inner_box, top_free_throw,\n",
    "                      bottom_free_throw, restricted, corner_three_a,\n",
    "                      corner_three_b, three_arc, center_outer_arc,\n",
    "                      center_inner_arc]\n",
    "\n",
    "    if outer_lines:\n",
    "        # Draw the half court line, baseline and side out bound lines\n",
    "        outer_lines = Rectangle((-250, -47.5), 500, 470, linewidth=lw,\n",
    "                                color=color, fill=False)\n",
    "        court_elements.append(outer_lines)\n",
    "\n",
    "    # Add the court elements onto the axes\n",
    "    for element in court_elements:\n",
    "        ax.add_patch(element)\n",
    "\n",
    "    return ax"
   ]
  },
  {
   "cell_type": "code",
   "execution_count": null,
   "id": "1dd7f9fe",
   "metadata": {},
   "outputs": [],
   "source": [
    "# Show the court\n",
    "plt.figure(figsize = (12,11))\n",
    "draw_court(outer_lines = True, color = \"black\")\n",
    "plt.xlim(-300,300)\n",
    "plt.ylim(-100,500)\n",
    "plt.show()"
   ]
  },
  {
   "cell_type": "code",
   "execution_count": null,
   "id": "174f0528",
   "metadata": {},
   "outputs": [],
   "source": [
    "# Create a scatter plot of the shots by player\n",
    "plt.figure(figsize = (12,11))\n",
    "plt.scatter(shot_df.LOC_X, shot_df.LOC_Y, c=shot_df.SHOT_MADE_FLAG, cmap='Greens')\n",
    "draw_court(outer_lines = True)\n",
    "# Descending values along the y axis from bottom to top in order to place the hoop by the top of the plot\n",
    "plt.ylim(422.5, -47.5)\n",
    "plt.show()"
   ]
  },
  {
   "cell_type": "code",
   "execution_count": null,
   "id": "d55c30a1",
   "metadata": {
    "scrolled": true
   },
   "outputs": [],
   "source": [
    "# Compare to the hexbin\n",
    "shots_hex = plt.hexbin(\n",
    "    shots_df.LOC_X, shots_df.LOC_Y,\n",
    "    extent=(-250, 250, 422.5, -47.5), cmap='Blues', gridsize=40)\n",
    "plt.close()  # this closes the plot window\n",
    "\n",
    "makes_df = shots_df[shots_df.EVENT_TYPE == 'Made Shot']\n",
    "makes_hex = plt.hexbin(\n",
    "    makes_df['LOC_X'], makes_df['LOC_Y'],\n",
    "    extent=(-250, 250, 422.5, -47.5), cmap=plt.cm.Reds, gridsize=40)\n",
    "plt.close()\n",
    "pcts_by_hex = makes_hex.get_array() / shots_hex.get_array()\n",
    "pcts_by_hex[np.isnan(pcts_by_hex)] = 0  # convert NAN values to 0\n",
    "\n",
    "sample_sizes = shots_hex.get_array()\n",
    "filter_threshold = 5\n",
    "for i in range(len(pcts_by_hex)):\n",
    "    if sample_sizes[i] < filter_threshold:\n",
    "        pcts_by_hex[i] = 0\n",
    "x = [i[0] for i in shots_hex.get_offsets()]\n",
    "y = [i[1] for i in shots_hex.get_offsets()]\n",
    "z = pcts_by_hex\n",
    "\n",
    "plt.figure(figsize=(5, 4.7))\n",
    "plt.xlim(250, -250)\n",
    "plt.ylim(-47.5, 422.5)\n",
    "plt.scatter(x, y, c=z, cmap='Blues', marker='h')\n",
    "plt.text(220, 350, \"Shot chart: \\nKeldon Johnson ('22-'23)\")\n",
    "draw_court(outer_lines=True)\n",
    "cur_axes = plt.gca()\n",
    "cur_axes.axes.get_xaxis().set_visible(False)\n",
    "cur_axes.axes.get_yaxis().set_visible(False)"
   ]
  },
  {
   "cell_type": "code",
   "execution_count": null,
   "id": "030a1404",
   "metadata": {},
   "outputs": [],
   "source": [
    "shots_hex = plt.hexbin(\n",
    "    shots_df.LOC_X, shots_df.LOC_Y,\n",
    "    extent=(-250, 250, 422.5, -47.5), cmap=plt.cm.Reds, gridsize=25)\n",
    "shots_by_hex = shots_hex.get_array()\n",
    "freq_by_hex = shots_by_hex / sum(shots_by_hex)\n",
    "sizes = freq_by_hex / max(freq_by_hex) * 120\n",
    "plt.close()\n",
    "\n",
    "plt.figure(figsize=(5, 4.7))\n",
    "plt.xlim(250, -250)\n",
    "plt.ylim(-47.5, 422.5)\n",
    "\n",
    "plt.scatter(x, y, c=z, cmap='Blues', marker='h')\n",
    "plt.text(220, 350, \"Shot chart: \\nJames Harden ('18-'19)\")\n",
    "draw_court(outer_lines=True)\n",
    "#cur_axes = plt.gca()\n",
    "#cur_axes.axes.get_xaxis().set_visible(False)\n",
    "#cur_axes.axes.get_yaxis().set_visible(False)\n",
    "plt.show()"
   ]
  },
  {
   "cell_type": "code",
   "execution_count": null,
   "id": "29972cbe",
   "metadata": {},
   "outputs": [],
   "source": [
    "# Save chart\n",
    "plt.savefig('Shot Chart/Keldon_Johnson_Shot_Chart.png')"
   ]
  },
  {
   "cell_type": "markdown",
   "id": "b2c142c9",
   "metadata": {},
   "source": [
    "# Scatter Plot"
   ]
  },
  {
   "cell_type": "code",
   "execution_count": null,
   "id": "dd59d2c6",
   "metadata": {},
   "outputs": [],
   "source": [
    "# Get all nba players for the 22-23 season in order by best ranked,\n",
    "# Make the total number large enough to make sure every player gets added\n",
    "top_1000 = leagueleaders.LeagueLeaders(season = '2022-23', season_type_all_star = 'Regular Season',\n",
    "                                     stat_category_abbreviation = 'PTS').get_data_frames()[0][:1000]\n",
    "\n",
    "# Show the dataframe\n",
    "top_1000.head()"
   ]
  },
  {
   "cell_type": "code",
   "execution_count": null,
   "id": "b6ed83ab",
   "metadata": {},
   "outputs": [],
   "source": [
    "# Get the number of total players\n",
    "top_1000.count()"
   ]
  },
  {
   "cell_type": "code",
   "execution_count": null,
   "id": "84f133dc",
   "metadata": {},
   "outputs": [],
   "source": [
    "# Get the Spurs Roster for 22-23\n",
    "spurs_roster = top_1000.loc[top_1000['TEAM'] == 'SAS']\n",
    "\n",
    "# Show the roster\n",
    "spurs_roster"
   ]
  },
  {
   "cell_type": "code",
   "execution_count": null,
   "id": "8f5cbf8e",
   "metadata": {},
   "outputs": [],
   "source": [
    "# Create Scatter Plots\n",
    "# Create the x axis\n",
    "x_axis=spurs_roster.PTS\n",
    "\n",
    "# Create the y axis\n",
    "y_axis=spurs_roster.FG3M/spurs_roster.FG3A"
   ]
  },
  {
   "cell_type": "code",
   "execution_count": null,
   "id": "8fd4fcb0",
   "metadata": {},
   "outputs": [],
   "source": []
  }
 ],
 "metadata": {
  "kernelspec": {
   "display_name": "Python 3 (ipykernel)",
   "language": "python",
   "name": "python3"
  },
  "language_info": {
   "codemirror_mode": {
    "name": "ipython",
    "version": 3
   },
   "file_extension": ".py",
   "mimetype": "text/x-python",
   "name": "python",
   "nbconvert_exporter": "python",
   "pygments_lexer": "ipython3",
   "version": "3.10.9"
  }
 },
 "nbformat": 4,
 "nbformat_minor": 5
}
